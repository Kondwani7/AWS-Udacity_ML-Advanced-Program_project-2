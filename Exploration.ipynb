{
  "cells": [
    {
      "cell_type": "code",
      "execution_count": 1,
      "metadata": {
        "id": "pW-fk0AH9xrd"
      },
      "outputs": [],
      "source": [
        "import torch\n",
        "import torch.nn as nn\n",
        "import torch.nn.functional as F\n",
        "import torch.optim as optim\n",
        "import torchvision\n",
        "import torchvision.transforms as transforms\n",
        "import matplotlib.pyplot as plt\n",
        "from torch.utils.data import DataLoader\n",
        "from torchvision import transforms\n",
        "from torchvision import datasets\n",
        "from torchvision.transforms import ToTensor\n",
        "import numpy as np\n",
        "from torch.utils.data.sampler import SubsetRandomSampler"
      ]
    },
    {
      "cell_type": "code",
      "execution_count": 8,
      "metadata": {
        "colab": {
          "base_uri": "https://localhost:8080/"
        },
        "id": "xBx36fqq_yI7",
        "outputId": "ae741889-448e-41d3-ac1c-d5728e4e40a6"
      },
      "outputs": [
        {
          "output_type": "execute_result",
          "data": {
            "text/plain": [
              "device(type='cpu')"
            ]
          },
          "metadata": {},
          "execution_count": 8
        }
      ],
      "source": [
        "device = torch.device('cuda' if torch.cuda.is_available() else 'cpu')\n",
        "device"
      ]
    },
    {
      "cell_type": "markdown",
      "metadata": {
        "id": "wtkdJxnr_l4g"
      },
      "source": [
        "### Widgets\n",
        "Handle potential associated with importing widgets"
      ]
    },
    {
      "cell_type": "code",
      "execution_count": 2,
      "metadata": {
        "colab": {
          "base_uri": "https://localhost:8080/"
        },
        "id": "dJWCyGGZ95X6",
        "outputId": "7f27f7fc-3e11-4127-c02a-c6bd451d5fa5"
      },
      "outputs": [
        {
          "output_type": "stream",
          "name": "stdout",
          "text": [
            "Requirement already satisfied: ipywidgets in /usr/local/lib/python3.10/dist-packages (7.7.1)\n",
            "Requirement already satisfied: ipykernel>=4.5.1 in /usr/local/lib/python3.10/dist-packages (from ipywidgets) (5.5.6)\n",
            "Requirement already satisfied: ipython-genutils~=0.2.0 in /usr/local/lib/python3.10/dist-packages (from ipywidgets) (0.2.0)\n",
            "Requirement already satisfied: traitlets>=4.3.1 in /usr/local/lib/python3.10/dist-packages (from ipywidgets) (5.7.1)\n",
            "Requirement already satisfied: widgetsnbextension~=3.6.0 in /usr/local/lib/python3.10/dist-packages (from ipywidgets) (3.6.4)\n",
            "Requirement already satisfied: ipython>=4.0.0 in /usr/local/lib/python3.10/dist-packages (from ipywidgets) (7.34.0)\n",
            "Requirement already satisfied: jupyterlab-widgets>=1.0.0 in /usr/local/lib/python3.10/dist-packages (from ipywidgets) (3.0.8)\n",
            "Requirement already satisfied: jupyter-client in /usr/local/lib/python3.10/dist-packages (from ipykernel>=4.5.1->ipywidgets) (6.1.12)\n",
            "Requirement already satisfied: tornado>=4.2 in /usr/local/lib/python3.10/dist-packages (from ipykernel>=4.5.1->ipywidgets) (6.3.1)\n",
            "Requirement already satisfied: setuptools>=18.5 in /usr/local/lib/python3.10/dist-packages (from ipython>=4.0.0->ipywidgets) (67.7.2)\n",
            "Collecting jedi>=0.16 (from ipython>=4.0.0->ipywidgets)\n",
            "  Downloading jedi-0.18.2-py2.py3-none-any.whl (1.6 MB)\n",
            "\u001b[2K     \u001b[90m━━━━━━━━━━━━━━━━━━━━━━━━━━━━━━━━━━━━━━━━\u001b[0m \u001b[32m1.6/1.6 MB\u001b[0m \u001b[31m11.3 MB/s\u001b[0m eta \u001b[36m0:00:00\u001b[0m\n",
            "\u001b[?25hRequirement already satisfied: decorator in /usr/local/lib/python3.10/dist-packages (from ipython>=4.0.0->ipywidgets) (4.4.2)\n",
            "Requirement already satisfied: pickleshare in /usr/local/lib/python3.10/dist-packages (from ipython>=4.0.0->ipywidgets) (0.7.5)\n",
            "Requirement already satisfied: prompt-toolkit!=3.0.0,!=3.0.1,<3.1.0,>=2.0.0 in /usr/local/lib/python3.10/dist-packages (from ipython>=4.0.0->ipywidgets) (3.0.39)\n",
            "Requirement already satisfied: pygments in /usr/local/lib/python3.10/dist-packages (from ipython>=4.0.0->ipywidgets) (2.14.0)\n",
            "Requirement already satisfied: backcall in /usr/local/lib/python3.10/dist-packages (from ipython>=4.0.0->ipywidgets) (0.2.0)\n",
            "Requirement already satisfied: matplotlib-inline in /usr/local/lib/python3.10/dist-packages (from ipython>=4.0.0->ipywidgets) (0.1.6)\n",
            "Requirement already satisfied: pexpect>4.3 in /usr/local/lib/python3.10/dist-packages (from ipython>=4.0.0->ipywidgets) (4.8.0)\n",
            "Requirement already satisfied: notebook>=4.4.1 in /usr/local/lib/python3.10/dist-packages (from widgetsnbextension~=3.6.0->ipywidgets) (6.4.8)\n",
            "Requirement already satisfied: parso<0.9.0,>=0.8.0 in /usr/local/lib/python3.10/dist-packages (from jedi>=0.16->ipython>=4.0.0->ipywidgets) (0.8.3)\n",
            "Requirement already satisfied: jinja2 in /usr/local/lib/python3.10/dist-packages (from notebook>=4.4.1->widgetsnbextension~=3.6.0->ipywidgets) (3.1.2)\n",
            "Requirement already satisfied: pyzmq>=17 in /usr/local/lib/python3.10/dist-packages (from notebook>=4.4.1->widgetsnbextension~=3.6.0->ipywidgets) (23.2.1)\n",
            "Requirement already satisfied: argon2-cffi in /usr/local/lib/python3.10/dist-packages (from notebook>=4.4.1->widgetsnbextension~=3.6.0->ipywidgets) (21.3.0)\n",
            "Requirement already satisfied: jupyter-core>=4.6.1 in /usr/local/lib/python3.10/dist-packages (from notebook>=4.4.1->widgetsnbextension~=3.6.0->ipywidgets) (5.3.1)\n",
            "Requirement already satisfied: nbformat in /usr/local/lib/python3.10/dist-packages (from notebook>=4.4.1->widgetsnbextension~=3.6.0->ipywidgets) (5.9.1)\n",
            "Requirement already satisfied: nbconvert in /usr/local/lib/python3.10/dist-packages (from notebook>=4.4.1->widgetsnbextension~=3.6.0->ipywidgets) (6.5.4)\n",
            "Requirement already satisfied: nest-asyncio>=1.5 in /usr/local/lib/python3.10/dist-packages (from notebook>=4.4.1->widgetsnbextension~=3.6.0->ipywidgets) (1.5.6)\n",
            "Requirement already satisfied: Send2Trash>=1.8.0 in /usr/local/lib/python3.10/dist-packages (from notebook>=4.4.1->widgetsnbextension~=3.6.0->ipywidgets) (1.8.2)\n",
            "Requirement already satisfied: terminado>=0.8.3 in /usr/local/lib/python3.10/dist-packages (from notebook>=4.4.1->widgetsnbextension~=3.6.0->ipywidgets) (0.17.1)\n",
            "Requirement already satisfied: prometheus-client in /usr/local/lib/python3.10/dist-packages (from notebook>=4.4.1->widgetsnbextension~=3.6.0->ipywidgets) (0.17.1)\n",
            "Requirement already satisfied: python-dateutil>=2.1 in /usr/local/lib/python3.10/dist-packages (from jupyter-client->ipykernel>=4.5.1->ipywidgets) (2.8.2)\n",
            "Requirement already satisfied: ptyprocess>=0.5 in /usr/local/lib/python3.10/dist-packages (from pexpect>4.3->ipython>=4.0.0->ipywidgets) (0.7.0)\n",
            "Requirement already satisfied: wcwidth in /usr/local/lib/python3.10/dist-packages (from prompt-toolkit!=3.0.0,!=3.0.1,<3.1.0,>=2.0.0->ipython>=4.0.0->ipywidgets) (0.2.6)\n",
            "Requirement already satisfied: platformdirs>=2.5 in /usr/local/lib/python3.10/dist-packages (from jupyter-core>=4.6.1->notebook>=4.4.1->widgetsnbextension~=3.6.0->ipywidgets) (3.8.1)\n",
            "Requirement already satisfied: six>=1.5 in /usr/local/lib/python3.10/dist-packages (from python-dateutil>=2.1->jupyter-client->ipykernel>=4.5.1->ipywidgets) (1.16.0)\n",
            "Requirement already satisfied: argon2-cffi-bindings in /usr/local/lib/python3.10/dist-packages (from argon2-cffi->notebook>=4.4.1->widgetsnbextension~=3.6.0->ipywidgets) (21.2.0)\n",
            "Requirement already satisfied: MarkupSafe>=2.0 in /usr/local/lib/python3.10/dist-packages (from jinja2->notebook>=4.4.1->widgetsnbextension~=3.6.0->ipywidgets) (2.1.3)\n",
            "Requirement already satisfied: lxml in /usr/local/lib/python3.10/dist-packages (from nbconvert->notebook>=4.4.1->widgetsnbextension~=3.6.0->ipywidgets) (4.9.3)\n",
            "Requirement already satisfied: beautifulsoup4 in /usr/local/lib/python3.10/dist-packages (from nbconvert->notebook>=4.4.1->widgetsnbextension~=3.6.0->ipywidgets) (4.11.2)\n",
            "Requirement already satisfied: bleach in /usr/local/lib/python3.10/dist-packages (from nbconvert->notebook>=4.4.1->widgetsnbextension~=3.6.0->ipywidgets) (6.0.0)\n",
            "Requirement already satisfied: defusedxml in /usr/local/lib/python3.10/dist-packages (from nbconvert->notebook>=4.4.1->widgetsnbextension~=3.6.0->ipywidgets) (0.7.1)\n",
            "Requirement already satisfied: entrypoints>=0.2.2 in /usr/local/lib/python3.10/dist-packages (from nbconvert->notebook>=4.4.1->widgetsnbextension~=3.6.0->ipywidgets) (0.4)\n",
            "Requirement already satisfied: jupyterlab-pygments in /usr/local/lib/python3.10/dist-packages (from nbconvert->notebook>=4.4.1->widgetsnbextension~=3.6.0->ipywidgets) (0.2.2)\n",
            "Requirement already satisfied: mistune<2,>=0.8.1 in /usr/local/lib/python3.10/dist-packages (from nbconvert->notebook>=4.4.1->widgetsnbextension~=3.6.0->ipywidgets) (0.8.4)\n",
            "Requirement already satisfied: nbclient>=0.5.0 in /usr/local/lib/python3.10/dist-packages (from nbconvert->notebook>=4.4.1->widgetsnbextension~=3.6.0->ipywidgets) (0.8.0)\n",
            "Requirement already satisfied: packaging in /usr/local/lib/python3.10/dist-packages (from nbconvert->notebook>=4.4.1->widgetsnbextension~=3.6.0->ipywidgets) (23.1)\n",
            "Requirement already satisfied: pandocfilters>=1.4.1 in /usr/local/lib/python3.10/dist-packages (from nbconvert->notebook>=4.4.1->widgetsnbextension~=3.6.0->ipywidgets) (1.5.0)\n",
            "Requirement already satisfied: tinycss2 in /usr/local/lib/python3.10/dist-packages (from nbconvert->notebook>=4.4.1->widgetsnbextension~=3.6.0->ipywidgets) (1.2.1)\n",
            "Requirement already satisfied: fastjsonschema in /usr/local/lib/python3.10/dist-packages (from nbformat->notebook>=4.4.1->widgetsnbextension~=3.6.0->ipywidgets) (2.17.1)\n",
            "Requirement already satisfied: jsonschema>=2.6 in /usr/local/lib/python3.10/dist-packages (from nbformat->notebook>=4.4.1->widgetsnbextension~=3.6.0->ipywidgets) (4.3.3)\n",
            "Requirement already satisfied: attrs>=17.4.0 in /usr/local/lib/python3.10/dist-packages (from jsonschema>=2.6->nbformat->notebook>=4.4.1->widgetsnbextension~=3.6.0->ipywidgets) (23.1.0)\n",
            "Requirement already satisfied: pyrsistent!=0.17.0,!=0.17.1,!=0.17.2,>=0.14.0 in /usr/local/lib/python3.10/dist-packages (from jsonschema>=2.6->nbformat->notebook>=4.4.1->widgetsnbextension~=3.6.0->ipywidgets) (0.19.3)\n",
            "Requirement already satisfied: cffi>=1.0.1 in /usr/local/lib/python3.10/dist-packages (from argon2-cffi-bindings->argon2-cffi->notebook>=4.4.1->widgetsnbextension~=3.6.0->ipywidgets) (1.15.1)\n",
            "Requirement already satisfied: soupsieve>1.2 in /usr/local/lib/python3.10/dist-packages (from beautifulsoup4->nbconvert->notebook>=4.4.1->widgetsnbextension~=3.6.0->ipywidgets) (2.4.1)\n",
            "Requirement already satisfied: webencodings in /usr/local/lib/python3.10/dist-packages (from bleach->nbconvert->notebook>=4.4.1->widgetsnbextension~=3.6.0->ipywidgets) (0.5.1)\n",
            "Requirement already satisfied: pycparser in /usr/local/lib/python3.10/dist-packages (from cffi>=1.0.1->argon2-cffi-bindings->argon2-cffi->notebook>=4.4.1->widgetsnbextension~=3.6.0->ipywidgets) (2.21)\n",
            "Installing collected packages: jedi\n",
            "Successfully installed jedi-0.18.2\n"
          ]
        }
      ],
      "source": [
        "!pip install ipywidgets --user"
      ]
    },
    {
      "cell_type": "markdown",
      "metadata": {
        "id": "1tnJ1bbZ_cXw"
      },
      "source": [
        "## Loading and Preprocessing Data\n",
        "In this section, we will load and preprocess our data using any relevant methods from `transforms` and `datasets`.\n",
        "Then, we will create `DataLoader`s for our train and test sets.\n",
        "\n",
        "If you have trouble, feel free to consult the documentation for [transforms](https://pytorch.org/vision/0.12/transforms.html) and [CIFAR-10](https://pytorch.org/vision/stable/generated/torchvision.datasets.CIFAR10.html#torchvision.datasets.CIFAR10)"
      ]
    },
    {
      "cell_type": "code",
      "execution_count": 13,
      "metadata": {
        "id": "lVzdG0oS_Kj0"
      },
      "outputs": [],
      "source": [
        "transform = transforms.Compose([transforms.ToTensor(),transforms.Normalize((0.5,),(0.5,),)])\n",
        "#transform = ToTensor()"
      ]
    },
    {
      "cell_type": "code",
      "execution_count": 14,
      "metadata": {
        "id": "8EozsUqE9_0L",
        "colab": {
          "base_uri": "https://localhost:8080/"
        },
        "outputId": "07f8cade-959a-4ce3-e8b8-09ba708ce2f4"
      },
      "outputs": [
        {
          "output_type": "stream",
          "name": "stdout",
          "text": [
            "Downloading http://yann.lecun.com/exdb/mnist/train-images-idx3-ubyte.gz\n",
            "Downloading http://yann.lecun.com/exdb/mnist/train-images-idx3-ubyte.gz to ./data/MNIST/raw/train-images-idx3-ubyte.gz\n"
          ]
        },
        {
          "output_type": "stream",
          "name": "stderr",
          "text": [
            "100%|██████████| 9912422/9912422 [00:00<00:00, 79896441.46it/s]\n"
          ]
        },
        {
          "output_type": "stream",
          "name": "stdout",
          "text": [
            "Extracting ./data/MNIST/raw/train-images-idx3-ubyte.gz to ./data/MNIST/raw\n",
            "\n",
            "Downloading http://yann.lecun.com/exdb/mnist/train-labels-idx1-ubyte.gz\n",
            "Downloading http://yann.lecun.com/exdb/mnist/train-labels-idx1-ubyte.gz to ./data/MNIST/raw/train-labels-idx1-ubyte.gz\n"
          ]
        },
        {
          "output_type": "stream",
          "name": "stderr",
          "text": [
            "100%|██████████| 28881/28881 [00:00<00:00, 58519658.85it/s]"
          ]
        },
        {
          "output_type": "stream",
          "name": "stdout",
          "text": [
            "Extracting ./data/MNIST/raw/train-labels-idx1-ubyte.gz to ./data/MNIST/raw\n",
            "\n",
            "Downloading http://yann.lecun.com/exdb/mnist/t10k-images-idx3-ubyte.gz\n"
          ]
        },
        {
          "output_type": "stream",
          "name": "stderr",
          "text": [
            "\n"
          ]
        },
        {
          "output_type": "stream",
          "name": "stdout",
          "text": [
            "Downloading http://yann.lecun.com/exdb/mnist/t10k-images-idx3-ubyte.gz to ./data/MNIST/raw/t10k-images-idx3-ubyte.gz\n"
          ]
        },
        {
          "output_type": "stream",
          "name": "stderr",
          "text": [
            "100%|██████████| 1648877/1648877 [00:00<00:00, 27865085.89it/s]\n"
          ]
        },
        {
          "output_type": "stream",
          "name": "stdout",
          "text": [
            "Extracting ./data/MNIST/raw/t10k-images-idx3-ubyte.gz to ./data/MNIST/raw\n",
            "\n",
            "Downloading http://yann.lecun.com/exdb/mnist/t10k-labels-idx1-ubyte.gz\n",
            "Downloading http://yann.lecun.com/exdb/mnist/t10k-labels-idx1-ubyte.gz to ./data/MNIST/raw/t10k-labels-idx1-ubyte.gz\n"
          ]
        },
        {
          "output_type": "stream",
          "name": "stderr",
          "text": [
            "100%|██████████| 4542/4542 [00:00<00:00, 13003773.90it/s]\n"
          ]
        },
        {
          "output_type": "stream",
          "name": "stdout",
          "text": [
            "Extracting ./data/MNIST/raw/t10k-labels-idx1-ubyte.gz to ./data/MNIST/raw\n",
            "\n"
          ]
        }
      ],
      "source": [
        "#Loading the training set and  the data loader\n",
        "training_data = datasets.MNIST(root=\"./data\", train=True, download=True, transform=transform)\n",
        "\n",
        "#incorporate validation to boost model performance\n",
        "idxs = list(range(len(training_data)))\n",
        "np.random.shuffle(idxs)\n",
        "#validation will be 20% of the training_dataset\n",
        "split = int(np.floor(0.2 * len(training_data)))\n",
        "train_sample = SubsetRandomSampler(idxs[:split])\n",
        "valid_sample = SubsetRandomSampler(idxs[split:])\n",
        "#validation loader and final training loader\n",
        "train_loader = DataLoader(training_data, sampler=train_sample, batch_size=10)\n",
        "valid_loader = DataLoader(training_data, sampler=valid_sample, batch_size=10)\n",
        "#loading the test set and the data loader\n",
        "test_data = datasets.MNIST(root=\"./data\", train=False, download=True, transform=transform)\n",
        "test_loader = DataLoader(test_data, batch_size=10, shuffle=True)"
      ]
    },
    {
      "cell_type": "markdown",
      "metadata": {
        "id": "GGb2K2qF_7wQ"
      },
      "source": [
        "## Explore the Dataset\n",
        "Using matplotlib, numpy, and torch, explore the dimensions of your data.\n",
        "\n",
        "You can view images using the `show5` function defined below – it takes a data loader as an argument.\n",
        "Remember that normalized images will look really weird to you! You may want to try changing your transforms to view images.\n",
        "Typically using no transforms other than `toTensor()` works well for viewing – but not as well for training your network.\n",
        "If `show5` doesn't work, go back and check your code for creating your data loaders and your training/test sets."
      ]
    },
    {
      "cell_type": "code",
      "execution_count": 15,
      "metadata": {
        "id": "Z8eDFprC_1LI"
      },
      "outputs": [],
      "source": [
        "## This cell contains a function for showing 5 images from a dataloader – DO NOT CHANGE THE CONTENTS! ##\n",
        "def show5(img_loader):\n",
        "    dataiter = iter(img_loader)\n",
        "\n",
        "    batch = next(dataiter)\n",
        "    labels = batch[1][0:5]\n",
        "    images = batch[0][0:5]\n",
        "    for i in range(5):\n",
        "        print(int(labels[i].detach()))\n",
        "\n",
        "        image = images[i].numpy()\n",
        "        plt.imshow(image.T.squeeze().T)\n",
        "        plt.show()"
      ]
    },
    {
      "cell_type": "code",
      "execution_count": 16,
      "metadata": {
        "colab": {
          "base_uri": "https://localhost:8080/",
          "height": 1000
        },
        "id": "5lKUCXK__-HQ",
        "outputId": "6dfb7111-926a-4d06-f98e-0db7e5add3b9"
      },
      "outputs": [
        {
          "output_type": "stream",
          "name": "stdout",
          "text": [
            "1\n"
          ]
        },
        {
          "output_type": "display_data",
          "data": {
            "text/plain": [
              "<Figure size 640x480 with 1 Axes>"
            ],
            "image/png": "[encoded data removed]"
          },
          "metadata": {}
        },
        {
          "output_type": "stream",
          "name": "stdout",
          "text": [
            "5\n"
          ]
        },
        {
          "output_type": "display_data",
          "data": {
            "text/plain": [
              "<Figure size 640x480 with 1 Axes>"
            ],
            "image/png": "[encoded data removed]"
          },
          "metadata": {}
        },
        {
          "output_type": "stream",
          "name": "stdout",
          "text": [
            "3\n"
          ]
        },
        {
          "output_type": "display_data",
          "data": {
            "text/plain": [
              "<Figure size 640x480 with 1 Axes>"
            ],
            "image/png": "[encoded data removed]"
          },
          "metadata": {}
        },
        {
          "output_type": "stream",
          "name": "stdout",
          "text": [
            "1\n"
          ]
        },
        {
          "output_type": "display_data",
          "data": {
            "text/plain": [
              "<Figure size 640x480 with 1 Axes>"
            ],
            "image/png": "[encoded data removed]"
          },
          "metadata": {}
        },
        {
          "output_type": "stream",
          "name": "stdout",
          "text": [
            "4\n"
          ]
        },
        {
          "output_type": "display_data",
          "data": {
            "text/plain": [
              "<Figure size 640x480 with 1 Axes>"
            ],
            "image/png": "[encoded data removed]"
          },
          "metadata": {}
        }
      ],
      "source": [
        "#explore data\n",
        "show5(train_loader)"
      ]
    },
    {
      "cell_type": "markdown",
      "metadata": {
        "id": "svqGjvkxCuPi"
      },
      "source": [
        "## Build your Neural Network\n",
        "Using the layers in `torch.nn` (which has been imported as `nn`) and the `torch.nn.functional` module (imported as `F`), construct a neural network based on the parameters of the dataset.\n",
        "Use any architecture you like.\n",
        "\n",
        "*Note*: If you did not flatten your tensors in your transforms or as part of your preprocessing and you are using only `Linear` layers, make sure to use the `Flatten` layer in your network!"
      ]
    },
    {
      "cell_type": "code",
      "execution_count": 21,
      "metadata": {
        "colab": {
          "base_uri": "https://localhost:8080/"
        },
        "id": "cQRxGhoF-N9z",
        "outputId": "2240096e-e170-4f50-cb11-c9dc5381e08b"
      },
      "outputs": [
        {
          "output_type": "execute_result",
          "data": {
            "text/plain": [
              "MNISTClassifer(\n",
              "  (fc1): Linear(in_features=784, out_features=100, bias=True)\n",
              "  (fc2): Linear(in_features=100, out_features=50, bias=True)\n",
              "  (fc3): Linear(in_features=50, out_features=10, bias=True)\n",
              "  (relu): ReLU()\n",
              ")"
            ]
          },
          "metadata": {},
          "execution_count": 21
        }
      ],
      "source": [
        "class MNISTClassifer(nn.Module):\n",
        "    def __init__(self):\n",
        "        super().__init__()\n",
        "        #inputs\n",
        "        self.fc1 = nn.Linear(28*28, 100)\n",
        "        self.fc2 = nn.Linear(100, 50)\n",
        "        self.fc3 = nn.Linear(50, 10)\n",
        "        self.relu = nn.ReLU()\n",
        "\n",
        "    def forward(self, x):\n",
        "        x = x.view(x.shape[0], -1)\n",
        "        x = self.relu(self.fc1(x))\n",
        "        x = self.relu(self.fc2(x))\n",
        "        #output layer\n",
        "        x = self.fc3(x)\n",
        "        return x\n",
        "\n",
        "# Instantiate the model\n",
        "net = MNISTClassifer()\n",
        "net.to(device)"
      ]
    },
    {
      "cell_type": "markdown",
      "metadata": {
        "id": "BSpW7wLkEEBg"
      },
      "source": [
        "## Optimizer and Loss function\n",
        "Before we get into our training loop, we need to choose an optimizer and loss function for our network."
      ]
    },
    {
      "cell_type": "code",
      "execution_count": 25,
      "metadata": {
        "id": "NiYznB_NAHFQ"
      },
      "outputs": [],
      "source": [
        "model = MNISTClassifer()\n",
        "# Choose an optimizer\n",
        "learning_rate = 0.01\n",
        "optimizer = optim.SGD(model.parameters(), lr=learning_rate)\n",
        "# Choose a loss function\n",
        "criterion = nn.CrossEntropyLoss()\n",
        "num_epochs =15\n",
        "valid_loss_min = np.Inf\n",
        "steps = 0\n",
        "model.train()\n",
        "train_losses, valid_losses = [],[]"
      ]
    },
    {
      "cell_type": "markdown",
      "metadata": {
        "id": "wXdFDk1XKkZe"
      },
      "source": [
        "## Running your Neural Network\n",
        "Use whatever method you like to train your neural network, and ensure you record the average loss at each epoch.\n",
        "Don't forget to use `torch.device()` and the `.to()` method for both your model and your data if you are using GPU!\n",
        "\n",
        "If you want to print your loss **during** each epoch, you can use the `enumerate` function and print the loss after a set number of batches. 250 batches works well for most people!"
      ]
    },
    {
      "cell_type": "code",
      "execution_count": 26,
      "metadata": {
        "id": "Npl5tSpyEHDR"
      },
      "outputs": [],
      "source": [
        "def train(valid_loss_min, model, criterion, optimizer, train_data, epochs):\n",
        "  for e in range(epochs):\n",
        "    running_loss = 0\n",
        "    valid_loss = 0\n",
        "  #model training\n",
        "    for images, labels in train_data:\n",
        "      optimizer.zero_grad()\n",
        "      log_ps = model(images)\n",
        "      loss = criterion(log_ps, labels)\n",
        "      loss.backward()\n",
        "      optimizer.step()\n",
        "      running_loss += loss.item()* images.size(0)\n",
        "\n",
        "    for images, labels in valid_loader:\n",
        "      log_ps = model(images)\n",
        "      loss = criterion(log_ps, labels)\n",
        "      valid_loss += loss.item() * images.size(0)\n",
        "\n",
        "    running_loss = running_loss/len(train_loader.sampler)\n",
        "    valid_loss = valid_loss/len(valid_loader.sampler)\n",
        "    train_losses.append(running_loss)\n",
        "    valid_losses.append(valid_loss)\n",
        "\n",
        "    print('Epoch: {} \\t Training Loss {:.6f} \\tValidation Loss {:6f}'.format(\n",
        "        e+1,\n",
        "        running_loss,\n",
        "        valid_loss\n",
        "    ))\n",
        "\n",
        "    if valid_loss <= valid_loss_min:\n",
        "      print('validation loss decreased({:.6f}), Saving Model ...'.format(valid_loss_min, valid_loss))\n",
        "      torch.save(model.state_dict(), 'baseline_model.pt')\n",
        "      valid_loss_min = valid_loss\n",
        "\n",
        "\n"
      ]
    },
    {
      "cell_type": "code",
      "source": [
        "train(valid_loss_min=valid_loss_min, model=model,criterion=criterion, optimizer=optimizer, train_data=train_loader, epochs=num_epochs)"
      ],
      "metadata": {
        "colab": {
          "base_uri": "https://localhost:8080/"
        },
        "id": "zRtXzuNBd7mP",
        "outputId": "2133cc73-b283-4c60-a9ac-ce5d9604d5fa"
      },
      "execution_count": 27,
      "outputs": [
        {
          "output_type": "stream",
          "name": "stdout",
          "text": [
            "Epoch: 1 \t Training Loss 1.019743 \tValidation Loss 0.424839\n",
            "validation loss decreased(inf), Saving Model ...\n",
            "Epoch: 2 \t Training Loss 0.405831 \tValidation Loss 0.363804\n",
            "validation loss decreased(0.424839), Saving Model ...\n",
            "Epoch: 3 \t Training Loss 0.333864 \tValidation Loss 0.320428\n",
            "validation loss decreased(0.363804), Saving Model ...\n",
            "Epoch: 4 \t Training Loss 0.288183 \tValidation Loss 0.304791\n",
            "validation loss decreased(0.320428), Saving Model ...\n",
            "Epoch: 5 \t Training Loss 0.253886 \tValidation Loss 0.276477\n",
            "validation loss decreased(0.304791), Saving Model ...\n",
            "Epoch: 6 \t Training Loss 0.222893 \tValidation Loss 0.233207\n",
            "validation loss decreased(0.276477), Saving Model ...\n",
            "Epoch: 7 \t Training Loss 0.198322 \tValidation Loss 0.229510\n",
            "validation loss decreased(0.233207), Saving Model ...\n",
            "Epoch: 8 \t Training Loss 0.172692 \tValidation Loss 0.211218\n",
            "validation loss decreased(0.229510), Saving Model ...\n",
            "Epoch: 9 \t Training Loss 0.158489 \tValidation Loss 0.211790\n",
            "Epoch: 10 \t Training Loss 0.139642 \tValidation Loss 0.193936\n",
            "validation loss decreased(0.211218), Saving Model ...\n",
            "Epoch: 11 \t Training Loss 0.125730 \tValidation Loss 0.171653\n",
            "validation loss decreased(0.193936), Saving Model ...\n",
            "Epoch: 12 \t Training Loss 0.112396 \tValidation Loss 0.218351\n",
            "Epoch: 13 \t Training Loss 0.100792 \tValidation Loss 0.169038\n",
            "validation loss decreased(0.171653), Saving Model ...\n",
            "Epoch: 14 \t Training Loss 0.092159 \tValidation Loss 0.164236\n",
            "validation loss decreased(0.169038), Saving Model ...\n",
            "Epoch: 15 \t Training Loss 0.082910 \tValidation Loss 0.163529\n",
            "validation loss decreased(0.164236), Saving Model ...\n"
          ]
        }
      ]
    },
    {
      "cell_type": "markdown",
      "source": [
        "Plot the training loss (and validation loss/accuracy, if recorded)."
      ],
      "metadata": {
        "id": "ywfQ_4Xq6-Il"
      }
    },
    {
      "cell_type": "code",
      "source": [
        "plt.plot(train_losses, label='Train Loss')\n",
        "plt.plot(valid_losses, label='Valid Loss')\n",
        "plt.legend()\n",
        "plt.show()"
      ],
      "metadata": {
        "colab": {
          "base_uri": "https://localhost:8080/",
          "height": 430
        },
        "id": "edS1_7O96_0y",
        "outputId": "8f47bc65-1902-485f-ffb5-3801d98e0062"
      },
      "execution_count": 28,
      "outputs": [
        {
          "output_type": "display_data",
          "data": {
            "text/plain": [
              "<Figure size 640x480 with 1 Axes>"
            ],
            "image/png": "[encoded data removed]"
          },
          "metadata": {}
        }
      ]
    },
    {
      "cell_type": "markdown",
      "source": [
        "\n",
        "\n",
        "### Testing your model\n",
        "Using the previously created DataLoader for the test set, compute the percentage of correct predictions using the highest probability prediction.\n",
        "\n",
        "If your accuracy is over 90%, great work, but see if you can push a bit further! If your accuracy is under 90%, you'll need to make improvements. Go back and check your model architecture, loss function, and optimizer to make sure they're appropriate for an image classification task."
      ],
      "metadata": {
        "id": "WVQi1rci6lz3"
      }
    },
    {
      "cell_type": "code",
      "source": [
        "test_loss = 0\n",
        "#checking model in accuracy in the range of 10 (10 types of images of Mnist)\n",
        "class_correct = list(0 for i in range(10))\n",
        "class_total = list(0 for i in range(10))"
      ],
      "metadata": {
        "id": "f7UZFRGWhGi8"
      },
      "execution_count": 29,
      "outputs": []
    },
    {
      "cell_type": "code",
      "execution_count": 30,
      "metadata": {
        "id": "LbeO4qLZLNm0"
      },
      "outputs": [],
      "source": [
        "def test(test_loss, class_correct, class_total, model, test_data):\n",
        "  model.eval()\n",
        "  for images, labels in test_loader:\n",
        "    output = model(images)\n",
        "    #get the loss\n",
        "    loss = criterion(output, labels)\n",
        "    #update test loss\n",
        "    test_loss += loss.item() * images.size(0)\n",
        "    #conver the probabilies of the output to the predicted class\n",
        "    _, pred = torch.max(output, 1)\n",
        "    #predictions vs true labels\n",
        "    correct = np.squeeze(pred.eq(labels.data.view_as(pred)))\n",
        "    #now we can track the test accuracy for each class (type of image)\n",
        "    for i in range(len(labels)):\n",
        "      label = labels.data[i]\n",
        "      class_correct[label] += correct[i].item()\n",
        "      class_total[label] += 1\n",
        "  #calcuate and track our test loss\n",
        "  test_loss = test_loss / len(test_loader.sampler)\n",
        "  print('Test Loss: {:.6f}\\n'.format(test_loss))\n",
        "\n",
        "  for i in range(10):\n",
        "    if class_total[i] > 0:\n",
        "      print('Test Accuracy of %5s: %2d%% (%2d/%2d)' %\n",
        "            (str(i), 100 * class_correct[i] / class_total[i],\n",
        "            np.sum(class_correct[i]), np.sum(class_total[i])))\n",
        "    else:\n",
        "      #handle negative values\n",
        "      print('Test Accuracy of %5s: N/A (no training samples)' % class_total[i])\n",
        "  #overall test accuracy\n",
        "  print('\\n Test Accuracy (Final): %2d%% (%2d/%2d)' % (\n",
        "      100. * np.sum(class_correct)/np.sum(class_total),\n",
        "      np.sum(class_correct), np.sum(class_total)))\n"
      ]
    },
    {
      "cell_type": "code",
      "source": [
        "test(test_loss=test_loss, class_correct=class_correct, class_total=class_total, model=model, test_data=test_loader)"
      ],
      "metadata": {
        "colab": {
          "base_uri": "https://localhost:8080/"
        },
        "id": "ncnI0AK8iXeT",
        "outputId": "c22c98f1-ea4f-464d-bb11-50cfbcf32719"
      },
      "execution_count": 31,
      "outputs": [
        {
          "output_type": "stream",
          "name": "stdout",
          "text": [
            "Test Loss: 0.152377\n",
            "\n",
            "Test Accuracy of     0: 97% (959/980)\n",
            "Test Accuracy of     1: 98% (1119/1135)\n",
            "Test Accuracy of     2: 95% (988/1032)\n",
            "Test Accuracy of     3: 94% (955/1010)\n",
            "Test Accuracy of     4: 95% (936/982)\n",
            "Test Accuracy of     5: 95% (852/892)\n",
            "Test Accuracy of     6: 94% (907/958)\n",
            "Test Accuracy of     7: 93% (958/1028)\n",
            "Test Accuracy of     8: 94% (918/974)\n",
            "Test Accuracy of     9: 94% (956/1009)\n",
            "\n",
            " Test Accuracy (Final): 95% (9548/10000)\n"
          ]
        }
      ]
    },
    {
      "cell_type": "markdown",
      "source": [
        "## Improving your model\n",
        "\n",
        "Once your model is done training, try tweaking your hyperparameters and training again below to improve your accuracy on the test set!\n",
        "\n",
        "### Note\n",
        "splitting the data to create a valdiation set was a prepocessing step done to boost model accuracy.\n",
        "The next steps will primarily focus on hyperparameter tuning"
      ],
      "metadata": {
        "id": "Sx6gj3Kb6ujG"
      }
    },
    {
      "cell_type": "code",
      "source": [
        "#improve the model infrastructure\n",
        "class MNISTClassiferTuned(nn.Module):\n",
        "    def __init__(self):\n",
        "        super().__init__()\n",
        "        #self.activation = F.relu\n",
        "        self.fc1 = nn.Linear(28*28, 200)\n",
        "        self.fc2 = nn.Linear(200, 100)\n",
        "        self.fc3 = nn.Linear(100, 50)\n",
        "        self.fc4 = nn.Linear(50, 50)\n",
        "        self.relu = nn.ReLU()\n",
        "        #add dropout of 20%\n",
        "        self.dropout = nn.Dropout(0.20)\n",
        "\n",
        "    def forward(self, x):\n",
        "        x = x.view(x.shape[0], -1)\n",
        "        #x = self.dropout(F.relu(self.fc1(x)))\n",
        "        #x = self.dropout(F.relu(self.fc2(x)))\n",
        "        x = self.dropout(self.relu(self.fc1(x)))\n",
        "        x = self.dropout(self.relu(self.fc2(x)))\n",
        "        x = self.dropout(self.relu(self.fc3(x)))\n",
        "        #output layer\n",
        "        x = self.fc4(x)\n",
        "        return x\n",
        "\n",
        "# Instantiate the model\n",
        "net = MNISTClassiferTuned()\n",
        "net.to(device)"
      ],
      "metadata": {
        "colab": {
          "base_uri": "https://localhost:8080/"
        },
        "id": "2MHElXx--E9y",
        "outputId": "029361ae-2779-4082-b086-c31740c9fb1e"
      },
      "execution_count": 36,
      "outputs": [
        {
          "output_type": "execute_result",
          "data": {
            "text/plain": [
              "MNISTClassiferTuned(\n",
              "  (fc1): Linear(in_features=784, out_features=200, bias=True)\n",
              "  (fc2): Linear(in_features=200, out_features=100, bias=True)\n",
              "  (fc3): Linear(in_features=100, out_features=50, bias=True)\n",
              "  (fc4): Linear(in_features=50, out_features=50, bias=True)\n",
              "  (relu): ReLU()\n",
              "  (dropout): Dropout(p=0.2, inplace=False)\n",
              ")"
            ]
          },
          "metadata": {},
          "execution_count": 36
        }
      ]
    },
    {
      "cell_type": "code",
      "source": [
        "# Instantiate the model\n",
        "net = MNISTClassiferTuned()\n",
        "net.to(device)"
      ],
      "metadata": {
        "colab": {
          "base_uri": "https://localhost:8080/"
        },
        "id": "AarF5wYWojSW",
        "outputId": "dc65bbb6-ade0-4ae7-a97e-940cfe48ee4d"
      },
      "execution_count": 37,
      "outputs": [
        {
          "output_type": "execute_result",
          "data": {
            "text/plain": [
              "MNISTClassiferTuned(\n",
              "  (fc1): Linear(in_features=784, out_features=200, bias=True)\n",
              "  (fc2): Linear(in_features=200, out_features=100, bias=True)\n",
              "  (fc3): Linear(in_features=100, out_features=50, bias=True)\n",
              "  (fc4): Linear(in_features=50, out_features=50, bias=True)\n",
              "  (relu): ReLU()\n",
              "  (dropout): Dropout(p=0.2, inplace=False)\n",
              ")"
            ]
          },
          "metadata": {},
          "execution_count": 37
        }
      ]
    },
    {
      "cell_type": "code",
      "source": [
        "model = MNISTClassiferTuned()\n",
        "# adjust learning rate\n",
        "learning_rate = 0.03\n",
        "optimizer = optim.SGD(model.parameters(), lr=learning_rate)\n",
        "# Choose a loss function\n",
        "criterion = nn.CrossEntropyLoss()\n",
        "num_epochs = 15\n",
        "valid_loss_min = np.Inf\n",
        "#adjust steps\n",
        "steps = 2\n",
        "model.train()\n",
        "train_losses, valid_losses = [],[]"
      ],
      "metadata": {
        "id": "6_UoPfnw6u2W"
      },
      "execution_count": 38,
      "outputs": []
    },
    {
      "cell_type": "code",
      "source": [
        "train(valid_loss_min=valid_loss_min, model=model,criterion=criterion, optimizer=optimizer, train_data=train_loader, epochs=num_epochs)"
      ],
      "metadata": {
        "colab": {
          "base_uri": "https://localhost:8080/"
        },
        "id": "xiYD_BuMi1yI",
        "outputId": "c9cd9b8e-b0f2-4566-f1ca-c1450678fe18"
      },
      "execution_count": 39,
      "outputs": [
        {
          "output_type": "stream",
          "name": "stdout",
          "text": [
            "Epoch: 1 \t Training Loss 1.189690 \tValidation Loss 0.668127\n",
            "validation loss decreased(inf), Saving Model ...\n",
            "Epoch: 2 \t Training Loss 0.516540 \tValidation Loss 0.430986\n",
            "validation loss decreased(0.668127), Saving Model ...\n",
            "Epoch: 3 \t Training Loss 0.397577 \tValidation Loss 0.356817\n",
            "validation loss decreased(0.430986), Saving Model ...\n",
            "Epoch: 4 \t Training Loss 0.335104 \tValidation Loss 0.339624\n",
            "validation loss decreased(0.356817), Saving Model ...\n",
            "Epoch: 5 \t Training Loss 0.293719 \tValidation Loss 0.298571\n",
            "validation loss decreased(0.339624), Saving Model ...\n",
            "Epoch: 6 \t Training Loss 0.254206 \tValidation Loss 0.297446\n",
            "validation loss decreased(0.298571), Saving Model ...\n",
            "Epoch: 7 \t Training Loss 0.235650 \tValidation Loss 0.283806\n",
            "validation loss decreased(0.297446), Saving Model ...\n",
            "Epoch: 8 \t Training Loss 0.204986 \tValidation Loss 0.265579\n",
            "validation loss decreased(0.283806), Saving Model ...\n",
            "Epoch: 9 \t Training Loss 0.198423 \tValidation Loss 0.225702\n",
            "validation loss decreased(0.265579), Saving Model ...\n",
            "Epoch: 10 \t Training Loss 0.186985 \tValidation Loss 0.235459\n",
            "Epoch: 11 \t Training Loss 0.168205 \tValidation Loss 0.265032\n",
            "Epoch: 12 \t Training Loss 0.159702 \tValidation Loss 0.234897\n",
            "Epoch: 13 \t Training Loss 0.149595 \tValidation Loss 0.234684\n",
            "Epoch: 14 \t Training Loss 0.141351 \tValidation Loss 0.261160\n",
            "Epoch: 15 \t Training Loss 0.134670 \tValidation Loss 0.198272\n",
            "validation loss decreased(0.225702), Saving Model ...\n"
          ]
        }
      ]
    },
    {
      "cell_type": "code",
      "source": [
        "plt.plot(train_losses, label='Train Loss')\n",
        "plt.plot(valid_losses, label='Valid Loss')\n",
        "plt.legend()\n",
        "plt.show()"
      ],
      "metadata": {
        "colab": {
          "base_uri": "https://localhost:8080/",
          "height": 430
        },
        "id": "aRKRuuxamDLn",
        "outputId": "c98104d7-4bc6-473a-e01b-53cac4a99d8b"
      },
      "execution_count": 40,
      "outputs": [
        {
          "output_type": "display_data",
          "data": {
            "text/plain": [
              "<Figure size 640x480 with 1 Axes>"
            ],
            "image/png": "[encoded data removed]"
          },
          "metadata": {}
        }
      ]
    },
    {
      "cell_type": "code",
      "source": [
        "test(test_loss=test_loss, class_correct=class_correct, class_total=class_total, model=model, test_data=test_loader)"
      ],
      "metadata": {
        "colab": {
          "base_uri": "https://localhost:8080/"
        },
        "id": "hTVoTX1AjQX4",
        "outputId": "1977c55e-a0ea-4ece-ecf5-64737de47855"
      },
      "execution_count": 41,
      "outputs": [
        {
          "output_type": "stream",
          "name": "stdout",
          "text": [
            "Test Loss: 0.135038\n",
            "\n",
            "Test Accuracy of     0: 98% (1927/1960)\n",
            "Test Accuracy of     1: 98% (2245/2270)\n",
            "Test Accuracy of     2: 95% (1977/2064)\n",
            "Test Accuracy of     3: 94% (1918/2020)\n",
            "Test Accuracy of     4: 96% (1890/1964)\n",
            "Test Accuracy of     5: 94% (1681/1784)\n",
            "Test Accuracy of     6: 95% (1836/1916)\n",
            "Test Accuracy of     7: 94% (1953/2056)\n",
            "Test Accuracy of     8: 94% (1846/1948)\n",
            "Test Accuracy of     9: 94% (1900/2018)\n",
            "\n",
            " Test Accuracy (Final): 95% (19173/20000)\n"
          ]
        }
      ]
    },
    {
      "cell_type": "markdown",
      "source": [
        "## Saving your model\n",
        "Using `torch.save`, save your model for future loading."
      ],
      "metadata": {
        "id": "8DOTS_DT6x1X"
      }
    },
    {
      "cell_type": "code",
      "source": [
        "torch.save(model.state_dict(), 'optimal_model.pt')"
      ],
      "metadata": {
        "id": "ilMnPlcp6yH0"
      },
      "execution_count": 42,
      "outputs": []
    },
    {
      "cell_type": "code",
      "source": [],
      "metadata": {
        "id": "YYvBKtk7B5Xw"
      },
      "execution_count": null,
      "outputs": []
    }
  ],
  "metadata": {
    "colab": {
      "provenance": []
    },
    "kernelspec": {
      "display_name": "Python 3",
      "name": "python3"
    },
    "language_info": {
      "name": "python"
    }
  },
  "nbformat": 4,
  "nbformat_minor": 0
}